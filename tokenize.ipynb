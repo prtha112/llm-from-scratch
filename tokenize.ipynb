{
 "cells": [
  {
   "cell_type": "code",
   "execution_count": 16,
   "id": "6f437ff0",
   "metadata": {},
   "outputs": [
    {
     "name": "stdout",
     "output_type": "stream",
     "text": [
      "['เมื่อ', 'วัน', 'พฤหัสบดี', 'ที่', ' ', '31', ' ', 'ก.ค.', ' ', '2568', ' ', 'โดนัลด์', ' ', 'ทรัมป์', ' ', 'ประธานาธิบดี', 'สหรัฐฯ', ' ', 'ประกาศ', 'ผ่าน', ' ', 'Truth', ' ', 'Social', ' ', 'ว่า', ' ', 'เขา', 'จะ', 'เลื่อน', 'การบังคับใช้', 'มาตรการ', 'ภาษี', 'ต่าง', 'ตอบแทน', 'อัตรา', ' ', '30', '%', ' ', 'กับ', 'เม็กซิโก', 'ไป', 'ก่อน', ' ', 'โดย', 'จะ', 'ใช้', 'ข้อตกลง', 'เดิม', 'ซึ่ง', 'จะ', 'เก็บภาษี', 'สินค้า', 'บาง', 'รายการ', 'ที่', 'นำเข้า', 'จาก', 'เม็กซิโก', 'ใน', 'อัตรา', ' ', '25', '%', ' ', 'ต่อไป', 'อีก', ' ', '90', ' ', 'วัน', ' ', 'ในระหว่างนั้น', 'ทั้งสองฝ่าย', 'จะ', 'หาทาง', 'ทำ', 'ข้อตกลง', 'การค้า', 'ร่วมกัน']\n",
      "81\n"
     ]
    }
   ],
   "source": [
    "from pythainlp.tokenize import word_tokenize\n",
    "\n",
    "text = \"เมื่อวันพฤหัสบดีที่ 31 ก.ค. 2568 โดนัลด์ ทรัมป์ ประธานาธิบดีสหรัฐฯ ประกาศผ่าน Truth Social ว่า เขาจะเลื่อนการบังคับใช้มาตรการภาษีต่างตอบแทนอัตรา 30% กับเม็กซิโกไปก่อน โดยจะใช้ข้อตกลงเดิมซึ่งจะเก็บภาษีสินค้าบางรายการที่นำเข้าจากเม็กซิโกในอัตรา 25% ต่อไปอีก 90 วัน ในระหว่างนั้นทั้งสองฝ่ายจะหาทางทำข้อตกลงการค้าร่วมกัน\"\n",
    "all_words = word_tokenize(text, engine=\"newmm\") \n",
    "print(all_words)\n",
    "print(len(all_words))"
   ]
  },
  {
   "cell_type": "code",
   "execution_count": 17,
   "id": "7a0ee0ba",
   "metadata": {},
   "outputs": [
    {
     "data": {
      "text/plain": [
       "{'เมื่อ': 0,\n",
       " 'วัน': 71,\n",
       " 'พฤหัสบดี': 2,\n",
       " 'ที่': 56,\n",
       " ' ': 72,\n",
       " '31': 5,\n",
       " 'ก.ค.': 7,\n",
       " '2568': 9,\n",
       " 'โดนัลด์': 11,\n",
       " 'ทรัมป์': 13,\n",
       " 'ประธานาธิบดี': 15,\n",
       " 'สหรัฐฯ': 16,\n",
       " 'ประกาศ': 18,\n",
       " 'ผ่าน': 19,\n",
       " 'Truth': 21,\n",
       " 'Social': 23,\n",
       " 'ว่า': 25,\n",
       " 'เขา': 27,\n",
       " 'จะ': 75,\n",
       " 'เลื่อน': 29,\n",
       " 'การบังคับใช้': 30,\n",
       " 'มาตรการ': 31,\n",
       " 'ภาษี': 32,\n",
       " 'ต่าง': 33,\n",
       " 'ตอบแทน': 34,\n",
       " 'อัตรา': 61,\n",
       " '30': 37,\n",
       " '%': 64,\n",
       " 'กับ': 40,\n",
       " 'เม็กซิโก': 59,\n",
       " 'ไป': 42,\n",
       " 'ก่อน': 43,\n",
       " 'โดย': 45,\n",
       " 'ใช้': 47,\n",
       " 'ข้อตกลง': 78,\n",
       " 'เดิม': 49,\n",
       " 'ซึ่ง': 50,\n",
       " 'เก็บภาษี': 52,\n",
       " 'สินค้า': 53,\n",
       " 'บาง': 54,\n",
       " 'รายการ': 55,\n",
       " 'นำเข้า': 57,\n",
       " 'จาก': 58,\n",
       " 'ใน': 60,\n",
       " '25': 63,\n",
       " 'ต่อไป': 66,\n",
       " 'อีก': 67,\n",
       " '90': 69,\n",
       " 'ในระหว่างนั้น': 73,\n",
       " 'ทั้งสองฝ่าย': 74,\n",
       " 'หาทาง': 76,\n",
       " 'ทำ': 77,\n",
       " 'การค้า': 79,\n",
       " 'ร่วมกัน': 80}"
      ]
     },
     "execution_count": 17,
     "metadata": {},
     "output_type": "execute_result"
    }
   ],
   "source": [
    "vocab = {token:integer for integer,token in enumerate(all_words)}\n",
    "vocab"
   ]
  },
  {
   "cell_type": "code",
   "execution_count": 18,
   "id": "ddf57fb3",
   "metadata": {},
   "outputs": [
    {
     "name": "stdout",
     "output_type": "stream",
     "text": [
      "('เมื่อ', 0)\n",
      "('วัน', 71)\n",
      "('พฤหัสบดี', 2)\n",
      "('ที่', 56)\n",
      "(' ', 72)\n",
      "('31', 5)\n",
      "('ก.ค.', 7)\n",
      "('2568', 9)\n",
      "('โดนัลด์', 11)\n",
      "('ทรัมป์', 13)\n",
      "('ประธานาธิบดี', 15)\n",
      "('สหรัฐฯ', 16)\n",
      "('ประกาศ', 18)\n",
      "('ผ่าน', 19)\n",
      "('Truth', 21)\n",
      "('Social', 23)\n",
      "('ว่า', 25)\n",
      "('เขา', 27)\n",
      "('จะ', 75)\n",
      "('เลื่อน', 29)\n",
      "('การบังคับใช้', 30)\n",
      "('มาตรการ', 31)\n",
      "('ภาษี', 32)\n",
      "('ต่าง', 33)\n",
      "('ตอบแทน', 34)\n",
      "('อัตรา', 61)\n",
      "('30', 37)\n",
      "('%', 64)\n",
      "('กับ', 40)\n",
      "('เม็กซิโก', 59)\n",
      "('ไป', 42)\n",
      "('ก่อน', 43)\n",
      "('โดย', 45)\n",
      "('ใช้', 47)\n",
      "('ข้อตกลง', 78)\n",
      "('เดิม', 49)\n",
      "('ซึ่ง', 50)\n",
      "('เก็บภาษี', 52)\n",
      "('สินค้า', 53)\n",
      "('บาง', 54)\n",
      "('รายการ', 55)\n",
      "('นำเข้า', 57)\n",
      "('จาก', 58)\n",
      "('ใน', 60)\n",
      "('25', 63)\n",
      "('ต่อไป', 66)\n",
      "('อีก', 67)\n",
      "('90', 69)\n",
      "('ในระหว่างนั้น', 73)\n",
      "('ทั้งสองฝ่าย', 74)\n",
      "('หาทาง', 76)\n"
     ]
    }
   ],
   "source": [
    "for i, item in enumerate(vocab.items()):\n",
    "    print(item)\n",
    "    if i >= 50:\n",
    "        break"
   ]
  },
  {
   "cell_type": "code",
   "execution_count": 20,
   "id": "e9309bba",
   "metadata": {},
   "outputs": [],
   "source": [
    "import re\n",
    "class SimpleTokenizerV1:\n",
    "    def __init__(self, vocab):\n",
    "        self.str_to_int = vocab\n",
    "        self.int_to_str = {i:s for s,i in vocab.items()}\n",
    "    \n",
    "    def encode(self, text):\n",
    "        preprocessed = word_tokenize(text, engine=\"newmm\") \n",
    "        ids = [self.str_to_int[s] for s in preprocessed]\n",
    "        return ids\n",
    "        \n",
    "    def decode(self, ids):\n",
    "        text = \" \".join([self.int_to_str[i] for i in ids])\n",
    "        # Replace spaces before the specified punctuations\n",
    "        text = re.sub(r'\\s+([,.?!\"()\\'])', r'\\1', text)\n",
    "        return text"
   ]
  },
  {
   "cell_type": "code",
   "execution_count": 21,
   "id": "68c539da",
   "metadata": {},
   "outputs": [
    {
     "name": "stdout",
     "output_type": "stream",
     "text": [
      "[27, 75, 29, 30, 31, 32, 33, 34, 61]\n"
     ]
    }
   ],
   "source": [
    "tokenizer = SimpleTokenizerV1(vocab)\n",
    "\n",
    "text = \"\"\"เขาจะเลื่อนการบังคับใช้มาตรการภาษีต่างตอบแทนอัตรา\"\"\"\n",
    "ids = tokenizer.encode(text)\n",
    "print(ids)"
   ]
  },
  {
   "cell_type": "code",
   "execution_count": 22,
   "id": "98cf03e3",
   "metadata": {},
   "outputs": [
    {
     "data": {
      "text/plain": [
       "'เขา จะ เลื่อน การบังคับใช้ มาตรการ ภาษี ต่าง ตอบแทน อัตรา'"
      ]
     },
     "execution_count": 22,
     "metadata": {},
     "output_type": "execute_result"
    }
   ],
   "source": [
    "tokenizer.decode(ids)"
   ]
  }
 ],
 "metadata": {
  "kernelspec": {
   "display_name": "genai",
   "language": "python",
   "name": "python3"
  },
  "language_info": {
   "codemirror_mode": {
    "name": "ipython",
    "version": 3
   },
   "file_extension": ".py",
   "mimetype": "text/x-python",
   "name": "python",
   "nbconvert_exporter": "python",
   "pygments_lexer": "ipython3",
   "version": "3.12.2"
  }
 },
 "nbformat": 4,
 "nbformat_minor": 5
}
